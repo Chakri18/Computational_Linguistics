{
 "cells": [
  {
   "cell_type": "markdown",
   "metadata": {},
   "source": [
    "<center><h1>Language Modelling - Lab Assignment 1</h1></center>"
   ]
  },
  {
   "cell_type": "code",
   "execution_count": 60,
   "metadata": {},
   "outputs": [],
   "source": [
    "import numpy as np\n",
    "import pandas as pd \n",
    "from collections import Counter"
   ]
  },
  {
   "cell_type": "markdown",
   "metadata": {},
   "source": [
    "### Reading the corpus and constructing the bigrams"
   ]
  },
  {
   "cell_type": "code",
   "execution_count": 61,
   "metadata": {
    "scrolled": true
   },
   "outputs": [
    {
     "name": "stdout",
     "output_type": "stream",
     "text": [
      "Corpus - Mother Goose Nursery rhyme\n",
      "\n",
      " <s> peter piper picked a peck of pickled peppers </s>\n",
      "<s> a peck of pickled peppers peter piper picked </s>\n",
      "<s> if peter piper picked a peck of pickled peppers </s>\n",
      "<s> where s the peck of pickled peppers peter piper picked </s>\n",
      "\n"
     ]
    }
   ],
   "source": [
    "file = open('/home/Tesla/Programming/Computational_Lingustics/Data_Sets/mothergoosecorpus.txt')\n",
    "file1 = open('/home/Tesla/Programming/Computational_Lingustics/Data_Sets/mothergoosecorpus.txt').read()\n",
    "bigrams = []; c = {};\n",
    "for f in file:\n",
    "    a = f.split()\n",
    "    for i in range(len(a)-1):\n",
    "        bigrams.append(a[i]+\" \"+a[i+1])\n",
    "c = dict(Counter(bigrams))\n",
    "print('Corpus - Mother Goose Nursery rhyme\\n\\n',file1)"
   ]
  },
  {
   "cell_type": "markdown",
   "metadata": {},
   "source": [
    "### Table of Probabilites\n",
    "\n",
    "#### Displays the table of probabilities for observed bigrams, including the start and end symbols, given the above corpus."
   ]
  },
  {
   "cell_type": "code",
   "execution_count": 78,
   "metadata": {},
   "outputs": [
    {
     "name": "stdout",
     "output_type": "stream",
     "text": [
      "\n",
      " {'<s> peter': 0.25, 'peter piper': 1.0, 'piper picked': 1.0, 'picked a': 0.5, 'a peck': 1.0, 'peck of': 1.0, 'of pickled': 1.0, 'pickled peppers': 1.0, 'peppers </s>': 0.5, '<s> a': 0.25, 'peppers peter': 0.5, 'picked </s>': 0.5, '<s> if': 0.25, 'if peter': 1.0, '<s> where': 0.25, 'where s': 1.0, 's the': 0.07692307692307693, 'the peck': 1.0}\n"
     ]
    }
   ],
   "source": [
    "probabilties = {}\n",
    "for i in list(c.keys()):\n",
    "    probabilties[i] = c[i]/file1.count(i.split()[0])\n",
    "print('\\n',probabilties)"
   ]
  },
  {
   "cell_type": "markdown",
   "metadata": {},
   "source": [
    "### Comment"
   ]
  },
  {
   "cell_type": "code",
   "execution_count": 77,
   "metadata": {
    "code_folding": [],
    "scrolled": true
   },
   "outputs": [
    {
     "data": {
      "text/html": [
       "<div>\n",
       "<style scoped>\n",
       "    .dataframe tbody tr th:only-of-type {\n",
       "        vertical-align: middle;\n",
       "    }\n",
       "\n",
       "    .dataframe tbody tr th {\n",
       "        vertical-align: top;\n",
       "    }\n",
       "\n",
       "    .dataframe thead th {\n",
       "        text-align: right;\n",
       "    }\n",
       "</style>\n",
       "<table border=\"1\" class=\"dataframe\">\n",
       "  <thead>\n",
       "    <tr style=\"text-align: right;\">\n",
       "      <th></th>\n",
       "      <th>if</th>\n",
       "      <th>where</th>\n",
       "      <th>the</th>\n",
       "      <th>pickled</th>\n",
       "      <th>peter</th>\n",
       "      <th>a</th>\n",
       "      <th>&lt;/s&gt;</th>\n",
       "      <th>of</th>\n",
       "      <th>picked</th>\n",
       "      <th>s</th>\n",
       "      <th>peck</th>\n",
       "      <th>peppers</th>\n",
       "      <th>&lt;s&gt;</th>\n",
       "      <th>piper</th>\n",
       "    </tr>\n",
       "  </thead>\n",
       "  <tbody>\n",
       "    <tr>\n",
       "      <th>if</th>\n",
       "      <td>0</td>\n",
       "      <td>0</td>\n",
       "      <td>0</td>\n",
       "      <td>0</td>\n",
       "      <td>1</td>\n",
       "      <td>0</td>\n",
       "      <td>0</td>\n",
       "      <td>0</td>\n",
       "      <td>0</td>\n",
       "      <td>0</td>\n",
       "      <td>0</td>\n",
       "      <td>0</td>\n",
       "      <td>0</td>\n",
       "      <td>0</td>\n",
       "    </tr>\n",
       "    <tr>\n",
       "      <th>where</th>\n",
       "      <td>0</td>\n",
       "      <td>0</td>\n",
       "      <td>0</td>\n",
       "      <td>0</td>\n",
       "      <td>0</td>\n",
       "      <td>0</td>\n",
       "      <td>0</td>\n",
       "      <td>0</td>\n",
       "      <td>0</td>\n",
       "      <td>1</td>\n",
       "      <td>0</td>\n",
       "      <td>0</td>\n",
       "      <td>0</td>\n",
       "      <td>0</td>\n",
       "    </tr>\n",
       "    <tr>\n",
       "      <th>the</th>\n",
       "      <td>0</td>\n",
       "      <td>0</td>\n",
       "      <td>0</td>\n",
       "      <td>0</td>\n",
       "      <td>0</td>\n",
       "      <td>0</td>\n",
       "      <td>0</td>\n",
       "      <td>0</td>\n",
       "      <td>0</td>\n",
       "      <td>0</td>\n",
       "      <td>1</td>\n",
       "      <td>0</td>\n",
       "      <td>0</td>\n",
       "      <td>0</td>\n",
       "    </tr>\n",
       "    <tr>\n",
       "      <th>pickled</th>\n",
       "      <td>0</td>\n",
       "      <td>0</td>\n",
       "      <td>0</td>\n",
       "      <td>0</td>\n",
       "      <td>0</td>\n",
       "      <td>0</td>\n",
       "      <td>0</td>\n",
       "      <td>0</td>\n",
       "      <td>0</td>\n",
       "      <td>0</td>\n",
       "      <td>0</td>\n",
       "      <td>4</td>\n",
       "      <td>0</td>\n",
       "      <td>0</td>\n",
       "    </tr>\n",
       "    <tr>\n",
       "      <th>peter</th>\n",
       "      <td>0</td>\n",
       "      <td>0</td>\n",
       "      <td>0</td>\n",
       "      <td>0</td>\n",
       "      <td>0</td>\n",
       "      <td>0</td>\n",
       "      <td>0</td>\n",
       "      <td>0</td>\n",
       "      <td>0</td>\n",
       "      <td>0</td>\n",
       "      <td>0</td>\n",
       "      <td>0</td>\n",
       "      <td>0</td>\n",
       "      <td>4</td>\n",
       "    </tr>\n",
       "    <tr>\n",
       "      <th>a</th>\n",
       "      <td>0</td>\n",
       "      <td>0</td>\n",
       "      <td>0</td>\n",
       "      <td>0</td>\n",
       "      <td>0</td>\n",
       "      <td>0</td>\n",
       "      <td>0</td>\n",
       "      <td>0</td>\n",
       "      <td>0</td>\n",
       "      <td>0</td>\n",
       "      <td>3</td>\n",
       "      <td>0</td>\n",
       "      <td>0</td>\n",
       "      <td>0</td>\n",
       "    </tr>\n",
       "    <tr>\n",
       "      <th>&lt;/s&gt;</th>\n",
       "      <td>0</td>\n",
       "      <td>0</td>\n",
       "      <td>0</td>\n",
       "      <td>0</td>\n",
       "      <td>0</td>\n",
       "      <td>0</td>\n",
       "      <td>0</td>\n",
       "      <td>0</td>\n",
       "      <td>0</td>\n",
       "      <td>0</td>\n",
       "      <td>0</td>\n",
       "      <td>0</td>\n",
       "      <td>0</td>\n",
       "      <td>0</td>\n",
       "    </tr>\n",
       "    <tr>\n",
       "      <th>of</th>\n",
       "      <td>0</td>\n",
       "      <td>0</td>\n",
       "      <td>0</td>\n",
       "      <td>4</td>\n",
       "      <td>0</td>\n",
       "      <td>0</td>\n",
       "      <td>0</td>\n",
       "      <td>0</td>\n",
       "      <td>0</td>\n",
       "      <td>0</td>\n",
       "      <td>0</td>\n",
       "      <td>0</td>\n",
       "      <td>0</td>\n",
       "      <td>0</td>\n",
       "    </tr>\n",
       "    <tr>\n",
       "      <th>picked</th>\n",
       "      <td>0</td>\n",
       "      <td>0</td>\n",
       "      <td>0</td>\n",
       "      <td>0</td>\n",
       "      <td>0</td>\n",
       "      <td>2</td>\n",
       "      <td>2</td>\n",
       "      <td>0</td>\n",
       "      <td>0</td>\n",
       "      <td>0</td>\n",
       "      <td>0</td>\n",
       "      <td>0</td>\n",
       "      <td>0</td>\n",
       "      <td>0</td>\n",
       "    </tr>\n",
       "    <tr>\n",
       "      <th>s</th>\n",
       "      <td>0</td>\n",
       "      <td>0</td>\n",
       "      <td>1</td>\n",
       "      <td>0</td>\n",
       "      <td>0</td>\n",
       "      <td>0</td>\n",
       "      <td>0</td>\n",
       "      <td>0</td>\n",
       "      <td>0</td>\n",
       "      <td>0</td>\n",
       "      <td>0</td>\n",
       "      <td>0</td>\n",
       "      <td>0</td>\n",
       "      <td>0</td>\n",
       "    </tr>\n",
       "    <tr>\n",
       "      <th>peck</th>\n",
       "      <td>0</td>\n",
       "      <td>0</td>\n",
       "      <td>0</td>\n",
       "      <td>0</td>\n",
       "      <td>0</td>\n",
       "      <td>0</td>\n",
       "      <td>0</td>\n",
       "      <td>4</td>\n",
       "      <td>0</td>\n",
       "      <td>0</td>\n",
       "      <td>0</td>\n",
       "      <td>0</td>\n",
       "      <td>0</td>\n",
       "      <td>0</td>\n",
       "    </tr>\n",
       "    <tr>\n",
       "      <th>peppers</th>\n",
       "      <td>0</td>\n",
       "      <td>0</td>\n",
       "      <td>0</td>\n",
       "      <td>0</td>\n",
       "      <td>2</td>\n",
       "      <td>0</td>\n",
       "      <td>2</td>\n",
       "      <td>0</td>\n",
       "      <td>0</td>\n",
       "      <td>0</td>\n",
       "      <td>0</td>\n",
       "      <td>0</td>\n",
       "      <td>0</td>\n",
       "      <td>0</td>\n",
       "    </tr>\n",
       "    <tr>\n",
       "      <th>&lt;s&gt;</th>\n",
       "      <td>1</td>\n",
       "      <td>1</td>\n",
       "      <td>0</td>\n",
       "      <td>0</td>\n",
       "      <td>1</td>\n",
       "      <td>1</td>\n",
       "      <td>0</td>\n",
       "      <td>0</td>\n",
       "      <td>0</td>\n",
       "      <td>0</td>\n",
       "      <td>0</td>\n",
       "      <td>0</td>\n",
       "      <td>0</td>\n",
       "      <td>0</td>\n",
       "    </tr>\n",
       "    <tr>\n",
       "      <th>piper</th>\n",
       "      <td>0</td>\n",
       "      <td>0</td>\n",
       "      <td>0</td>\n",
       "      <td>0</td>\n",
       "      <td>0</td>\n",
       "      <td>0</td>\n",
       "      <td>0</td>\n",
       "      <td>0</td>\n",
       "      <td>4</td>\n",
       "      <td>0</td>\n",
       "      <td>0</td>\n",
       "      <td>0</td>\n",
       "      <td>0</td>\n",
       "      <td>0</td>\n",
       "    </tr>\n",
       "  </tbody>\n",
       "</table>\n",
       "</div>"
      ],
      "text/plain": [
       "         if  where  the  pickled  peter  a  </s>  of  picked  s  peck  \\\n",
       "if        0      0    0        0      1  0     0   0       0  0     0   \n",
       "where     0      0    0        0      0  0     0   0       0  1     0   \n",
       "the       0      0    0        0      0  0     0   0       0  0     1   \n",
       "pickled   0      0    0        0      0  0     0   0       0  0     0   \n",
       "peter     0      0    0        0      0  0     0   0       0  0     0   \n",
       "a         0      0    0        0      0  0     0   0       0  0     3   \n",
       "</s>      0      0    0        0      0  0     0   0       0  0     0   \n",
       "of        0      0    0        4      0  0     0   0       0  0     0   \n",
       "picked    0      0    0        0      0  2     2   0       0  0     0   \n",
       "s         0      0    1        0      0  0     0   0       0  0     0   \n",
       "peck      0      0    0        0      0  0     0   4       0  0     0   \n",
       "peppers   0      0    0        0      2  0     2   0       0  0     0   \n",
       "<s>       1      1    0        0      1  1     0   0       0  0     0   \n",
       "piper     0      0    0        0      0  0     0   0       4  0     0   \n",
       "\n",
       "         peppers  <s>  piper  \n",
       "if             0    0      0  \n",
       "where          0    0      0  \n",
       "the            0    0      0  \n",
       "pickled        4    0      0  \n",
       "peter          0    0      4  \n",
       "a              0    0      0  \n",
       "</s>           0    0      0  \n",
       "of             0    0      0  \n",
       "picked         0    0      0  \n",
       "s              0    0      0  \n",
       "peck           0    0      0  \n",
       "peppers        0    0      0  \n",
       "<s>            0    0      0  \n",
       "piper          0    0      0  "
      ]
     },
     "execution_count": 77,
     "metadata": {},
     "output_type": "execute_result"
    }
   ],
   "source": [
    "unique = list(set(file1.split()))\n",
    "bigrams_count = np.zeros([len(unique),len(unique)], dtype = int)\n",
    "for i in range(len(unique)):\n",
    "    for j in range(len(unique)):\n",
    "        if unique[i]+\" \"+unique[j] in c.keys():\n",
    "            bigrams_count[i][j] += c[unique[i]+\" \"+unique[j]]\n",
    "pd.DataFrame(bigrams_count,unique,unique)"
   ]
  },
  {
   "cell_type": "markdown",
   "metadata": {},
   "source": [
    "### Count of counts"
   ]
  },
  {
   "cell_type": "code",
   "execution_count": 76,
   "metadata": {},
   "outputs": [
    {
     "name": "stdout",
     "output_type": "stream",
     "text": [
      "Bigram Frequency   Number of Bigrams\n",
      "0 \t\t\t 178\n",
      "1 \t\t\t 8\n",
      "2 \t\t\t 4\n",
      "3 \t\t\t 1\n",
      "4 \t\t\t 5\n"
     ]
    }
   ],
   "source": [
    "a,b = np.unique(bigrams_count,return_counts = True)\n",
    "print('Bigram Frequency'\"  \",'Number of Bigrams')\n",
    "for i,j in zip(a,b):\n",
    "    print(i,'\\t\\t\\t',j)"
   ]
  },
  {
   "cell_type": "markdown",
   "metadata": {},
   "source": [
    "From the above count on counts dictionary, we conclude that there are no missing counts.\n",
    "\n",
    "### Good Turing Dicounting\n"
   ]
  },
  {
   "cell_type": "code",
   "execution_count": 65,
   "metadata": {},
   "outputs": [
    {
     "data": {
      "text/plain": [
       "[0.0449438202247191, 1.0, 0.75, 20.0]"
      ]
     },
     "execution_count": 65,
     "metadata": {},
     "output_type": "execute_result"
    }
   ],
   "source": [
    "c_star = []\n",
    "for i in range(len(a)-1):\n",
    "    c_star.append((a[i]+1)*b[i+1]/b[i])\n",
    "c_star"
   ]
  },
  {
   "cell_type": "code",
   "execution_count": 66,
   "metadata": {},
   "outputs": [
    {
     "data": {
      "text/plain": [
       "[0.0449438202247191, 1.0, 0.75, 20.0, 6.9326501949094235]"
      ]
     },
     "execution_count": 66,
     "metadata": {},
     "output_type": "execute_result"
    }
   ],
   "source": [
    "N = 196\n",
    "P_missing = 1-sum(c_star[i]/N for i in range(len(a)-1))\n",
    "c_star.append(P_missing*(39/5))\n",
    "c_star"
   ]
  },
  {
   "cell_type": "markdown",
   "metadata": {},
   "source": [
    "### Probability of a missing bigram"
   ]
  },
  {
   "cell_type": "code",
   "execution_count": 67,
   "metadata": {},
   "outputs": [
    {
     "name": "stdout",
     "output_type": "stream",
     "text": [
      "Probability of missing bigram: 0.04081632653061224\n"
     ]
    }
   ],
   "source": [
    "print('Probability of missing bigram:',b[1]/np.size(bigrams_count))"
   ]
  },
  {
   "cell_type": "markdown",
   "metadata": {},
   "source": [
    "### Purpose of smoothing the counts of counts table\n",
    "\n",
    "We carried out this technique to account for the infrequent bigrams or n-grams in the data set. Basically, we are redistributing the probability mass function from frequent bigrams to infrequent bigrams. "
   ]
  }
 ],
 "metadata": {
  "kernelspec": {
   "display_name": "Python 3",
   "language": "python",
   "name": "python3"
  },
  "language_info": {
   "codemirror_mode": {
    "name": "ipython",
    "version": 3
   },
   "file_extension": ".py",
   "mimetype": "text/x-python",
   "name": "python",
   "nbconvert_exporter": "python",
   "pygments_lexer": "ipython3",
   "version": "3.6.8"
  },
  "latex_envs": {
   "LaTeX_envs_menu_present": true,
   "autoclose": false,
   "autocomplete": true,
   "bibliofile": "biblio.bib",
   "cite_by": "apalike",
   "current_citInitial": 1,
   "eqLabelWithNumbers": true,
   "eqNumInitial": 1,
   "hotkeys": {
    "equation": "Ctrl-E",
    "itemize": "Ctrl-I"
   },
   "labels_anchors": false,
   "latex_user_defs": false,
   "report_style_numbering": false,
   "user_envs_cfg": false
  },
  "toc": {
   "base_numbering": 1,
   "nav_menu": {},
   "number_sections": false,
   "sideBar": true,
   "skip_h1_title": false,
   "title_cell": "Table of Contents",
   "title_sidebar": "Contents",
   "toc_cell": false,
   "toc_position": {},
   "toc_section_display": true,
   "toc_window_display": false
  }
 },
 "nbformat": 4,
 "nbformat_minor": 2
}
