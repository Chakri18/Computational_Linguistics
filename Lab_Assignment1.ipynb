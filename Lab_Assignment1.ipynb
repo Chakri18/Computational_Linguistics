{
 "cells": [
  {
   "cell_type": "markdown",
   "metadata": {},
   "source": [
    "<center><h1>Language Modelling </h1></center>"
   ]
  },
  {
   "cell_type": "markdown",
   "metadata": {},
   "source": [
    "### Reading the data file"
   ]
  },
  {
   "cell_type": "code",
   "execution_count": 1,
   "metadata": {},
   "outputs": [],
   "source": [
    "import numpy as np\n",
    "from collections import Counter"
   ]
  },
  {
   "cell_type": "markdown",
   "metadata": {},
   "source": [
    "### Constructing the bigrams in the corpus"
   ]
  },
  {
   "cell_type": "code",
   "execution_count": 12,
   "metadata": {
    "scrolled": true
   },
   "outputs": [
    {
     "name": "stdout",
     "output_type": "stream",
     "text": [
      "<s> peter piper picked a peck of pickled peppers </s>\n",
      "<s> a peck of pickled peppers peter piper picked </s>\n",
      "<s> if peter piper picked a peck of pickled peppers </s>\n",
      "<s> where s the peck of pickled peppers peter piper picked </s>\n",
      "\n"
     ]
    }
   ],
   "source": [
    "file = open('/home/Tesla/Programming/Computational_Lingustics/Data_Sets/mothergoosecorpus.txt')\n",
    "file1 = open('/home/Tesla/Programming/Computational_Lingustics/Data_Sets/mothergoosecorpus.txt').read()\n",
    "bigrams = []; c = {};\n",
    "for f in file:\n",
    "    a = f.split()\n",
    "    for i in range(len(a)-1):\n",
    "        bigrams.append(a[i]+\" \"+a[i+1])\n",
    "c = dict(Counter(bigrams))\n",
    "print(file1)"
   ]
  },
  {
   "cell_type": "markdown",
   "metadata": {},
   "source": [
    "### Table of Probabilites"
   ]
  },
  {
   "cell_type": "code",
   "execution_count": 15,
   "metadata": {},
   "outputs": [
    {
     "name": "stdout",
     "output_type": "stream",
     "text": [
      "{'<s> peter': 1, 'peter piper': 4, 'piper picked': 4, 'picked a': 2, 'a peck': 3, 'peck of': 4, 'of pickled': 4, 'pickled peppers': 4, 'peppers </s>': 2, '<s> a': 1, 'peppers peter': 2, 'picked </s>': 2, '<s> if': 1, 'if peter': 1, '<s> where': 1, 'where s': 1, 's the': 1, 'the peck': 1} \n",
      "\n",
      " {'<s> peter': 0.25, 'peter piper': 1.0, 'piper picked': 1.0, 'picked a': 0.5, 'a peck': 1.0, 'peck of': 1.0, 'of pickled': 1.0, 'pickled peppers': 1.0, 'peppers </s>': 0.5, '<s> a': 0.25, 'peppers peter': 0.5, 'picked </s>': 0.5, '<s> if': 0.25, 'if peter': 1.0, '<s> where': 0.25, 'where s': 1.0, 's the': 0.07692307692307693, 'the peck': 1.0}\n"
     ]
    }
   ],
   "source": [
    "probabilties = {}\n",
    "for i in list(c.keys()):\n",
    "    probabilties[i] = c[i]/file1.count(i.split()[0])\n",
    "print(c,'\\n''\\n',probabilties)"
   ]
  },
  {
   "cell_type": "markdown",
   "metadata": {},
   "source": [
    "### Comment"
   ]
  },
  {
   "cell_type": "code",
   "execution_count": 23,
   "metadata": {},
   "outputs": [
    {
     "name": "stdout",
     "output_type": "stream",
     "text": [
      "['s', 'picked', 'of', 'if', 'piper', 'where', '<s>', 'pickled', 'a', 'peck', '</s>', 'peppers', 'peter', 'the'] \n",
      "\n",
      " [[0 0 0 0 0 0 0 0 0 0 0 0 0 1]\n",
      " [0 0 0 0 0 0 0 0 2 0 2 0 0 0]\n",
      " [0 0 0 0 0 0 0 4 0 0 0 0 0 0]\n",
      " [0 0 0 0 0 0 0 0 0 0 0 0 1 0]\n",
      " [0 4 0 0 0 0 0 0 0 0 0 0 0 0]\n",
      " [1 0 0 0 0 0 0 0 0 0 0 0 0 0]\n",
      " [0 0 0 1 0 1 0 0 1 0 0 0 1 0]\n",
      " [0 0 0 0 0 0 0 0 0 0 0 4 0 0]\n",
      " [0 0 0 0 0 0 0 0 0 3 0 0 0 0]\n",
      " [0 0 4 0 0 0 0 0 0 0 0 0 0 0]\n",
      " [0 0 0 0 0 0 0 0 0 0 0 0 0 0]\n",
      " [0 0 0 0 0 0 0 0 0 0 2 0 2 0]\n",
      " [0 0 0 0 4 0 0 0 0 0 0 0 0 0]\n",
      " [0 0 0 0 0 0 0 0 0 1 0 0 0 0]]\n"
     ]
    }
   ],
   "source": [
    "unique = list(set(file1.split()))\n",
    "bigrams_count = np.zeros([len(unique),len(unique)], dtype = int)\n",
    "for i in range(len(unique)):\n",
    "    for j in range(len(unique)):\n",
    "        if unique[i]+\" \"+unique[j] in c.keys():\n",
    "            bigrams_count[i][j] += c[unique[i]+\" \"+unique[j]]\n",
    "print(unique,'\\n\\n',bigrams_count)"
   ]
  },
  {
   "cell_type": "markdown",
   "metadata": {},
   "source": [
    "### Count of counts"
   ]
  },
  {
   "cell_type": "code",
   "execution_count": 45,
   "metadata": {},
   "outputs": [
    {
     "data": {
      "text/plain": [
       "({0: 178, 1: 8, 2: 4, 3: 1, 4: 5}, array([0, 1, 2, 3, 4]))"
      ]
     },
     "execution_count": 45,
     "metadata": {},
     "output_type": "execute_result"
    }
   ],
   "source": [
    "a,b = np.unique(bigrams_count,return_counts = True)\n",
    "c_count = dict(zip(a,b))\n",
    "c_count,a"
   ]
  },
  {
   "cell_type": "markdown",
   "metadata": {},
   "source": [
    "From the above count on counts dictionary, we conclude that there are no missing counts.\n",
    "\n",
    "### Good Turing Dicounting\n"
   ]
  },
  {
   "cell_type": "code",
   "execution_count": 46,
   "metadata": {},
   "outputs": [
    {
     "data": {
      "text/plain": [
       "[0.0449438202247191, 1.0, 0.75, 20.0]"
      ]
     },
     "execution_count": 46,
     "metadata": {},
     "output_type": "execute_result"
    }
   ],
   "source": [
    "c_star = []\n",
    "for i in range(len(a)-1):\n",
    "    c_star.append((a[i]+1)*b[i+1]/b[i])\n",
    "c_star"
   ]
  },
  {
   "cell_type": "markdown",
   "metadata": {},
   "source": [
    "### Probability of a missing bigram"
   ]
  },
  {
   "cell_type": "code",
   "execution_count": 49,
   "metadata": {},
   "outputs": [
    {
     "name": "stdout",
     "output_type": "stream",
     "text": [
      "Probability of missing bigram: 0.04081632653061224\n"
     ]
    }
   ],
   "source": [
    "print('Probability of missing bigram:',b[1]/np.size(bigrams_count))"
   ]
  },
  {
   "cell_type": "markdown",
   "metadata": {},
   "source": [
    "### Purpose of smoothing the counts of counts table\n",
    "\n",
    "We carried out this technique to account for the infrequent bigrams or n-grams in the data set. Basically, we are redistributing the probability mass function from frequent bigrams to infrequent bigrams. "
   ]
  }
 ],
 "metadata": {
  "kernelspec": {
   "display_name": "Python 3",
   "language": "python",
   "name": "python3"
  },
  "language_info": {
   "codemirror_mode": {
    "name": "ipython",
    "version": 3
   },
   "file_extension": ".py",
   "mimetype": "text/x-python",
   "name": "python",
   "nbconvert_exporter": "python",
   "pygments_lexer": "ipython3",
   "version": "3.6.8"
  },
  "latex_envs": {
   "LaTeX_envs_menu_present": true,
   "autoclose": false,
   "autocomplete": true,
   "bibliofile": "biblio.bib",
   "cite_by": "apalike",
   "current_citInitial": 1,
   "eqLabelWithNumbers": true,
   "eqNumInitial": 1,
   "hotkeys": {
    "equation": "Ctrl-E",
    "itemize": "Ctrl-I"
   },
   "labels_anchors": false,
   "latex_user_defs": false,
   "report_style_numbering": false,
   "user_envs_cfg": false
  },
  "toc": {
   "base_numbering": 1,
   "nav_menu": {},
   "number_sections": false,
   "sideBar": true,
   "skip_h1_title": false,
   "title_cell": "Table of Contents",
   "title_sidebar": "Contents",
   "toc_cell": false,
   "toc_position": {},
   "toc_section_display": true,
   "toc_window_display": false
  }
 },
 "nbformat": 4,
 "nbformat_minor": 2
}
